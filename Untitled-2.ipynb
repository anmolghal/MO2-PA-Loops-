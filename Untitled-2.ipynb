{
 "cells": [
  {
   "cell_type": "code",
   "execution_count": null,
   "id": "4d1036ba-4c15-419a-a843-655b68b8ef6c",
   "metadata": {},
   "outputs": [],
   "source": [
    "# 4.1 Solution\n",
    "# Assign values to `secret` and `guess`\n",
    "secret = 7  # Choose a number between 1 and 10\n",
    "guess = 5   # Choose another number between 1 and 10\n",
    "\n",
    "# Conditional tests\n",
    "if guess < secret:\n",
    "    print(\"too low\")\n",
    "elif guess > secret:\n",
    "    print(\"too high\")\n",
    "else:\n",
    "    print(\"just right\")\n"
   ]
  },
  {
   "cell_type": "markdown",
   "id": "2d4400a6-2beb-4beb-8aea-095cc75775d2",
   "metadata": {},
   "source": [
    "In this code:\n",
    "\n",
    "We assigned numbers to secret and guess.\n",
    "We then compared guess to secret:\n",
    "If guess is less than secret, it prints \"too low\".\n",
    "If guess is greater than secret, it prints \"too high\".\n",
    "If guess is equal to secret, it prints \"just right\"."
   ]
  },
  {
   "cell_type": "code",
   "execution_count": null,
   "id": "3836f1f9-d2cb-43ab-84c0-03131f7f49ac",
   "metadata": {},
   "outputs": [],
   "source": [
    "# 4.2 Solution\n",
    "# Assign boolean values to `small` and `green`\n",
    "small = True  # Example: True means the object is small\n",
    "green = False # Example: False means the object is not green\n",
    "\n",
    "# Conditional tests to determine the object type\n",
    "if small and green:\n",
    "    print(\"It's a pea.\")\n",
    "elif small and not green:\n",
    "    print(\"It's a cherry.\")\n",
    "elif not small and green:\n",
    "    print(\"It's a watermelon.\")\n",
    "else:\n",
    "    print(\"It's a pumpkin.\")\n"
   ]
  },
  {
   "cell_type": "markdown",
   "id": "dccf28e6-0625-48e3-9aba-789d6ac5bc53",
   "metadata": {},
   "source": [
    "In this code:\n",
    "\n",
    "The program checks the values of small and green to identify the object:\n",
    "small=True and green=True identifies a pea.\n",
    "small=True and green=False identifies a cherry.\n",
    "small=False and green=True identifies a watermelon.\n",
    "small=False and green=False identifies a pumpkin."
   ]
  },
  {
   "cell_type": "code",
   "execution_count": null,
   "id": "d5268ced-da9b-4f4a-8191-fd895bb40e50",
   "metadata": {},
   "outputs": [],
   "source": [
    "# 6.1 Solution\n",
    "# List to iterate over\n",
    "numbers = [3, 2, 1, 0]\n",
    "\n",
    "# For loop to print each value in the list\n",
    "for number in numbers:\n",
    "    print(number)\n"
   ]
  },
  {
   "cell_type": "markdown",
   "id": "99b54f8d-c88e-4f91-8a33-7716a1bfbac5",
   "metadata": {},
   "source": [
    "In this code:\n",
    "\n",
    "A for loop iterates through each value in the list [3, 2, 1, 0] and prints each number.\n"
   ]
  },
  {
   "cell_type": "code",
   "execution_count": null,
   "id": "896319c3-c680-4536-ba77-bb81ed682afd",
   "metadata": {},
   "outputs": [],
   "source": [
    "# 6.2 Solution\n",
    "# Initialize variables\n",
    "guess_me = 7\n",
    "number = 1\n",
    "\n",
    "# While loop to compare number with guess_me\n",
    "while True:\n",
    "    if number < guess_me:\n",
    "        print(\"too low\")\n",
    "    elif number == guess_me:\n",
    "        print(\"found it!\")\n",
    "        break\n",
    "    else:\n",
    "        print(\"oops\")\n",
    "        break\n",
    "    # Increment number\n",
    "    number += 1\n"
   ]
  },
  {
   "cell_type": "markdown",
   "id": "d07df614-03fa-4e30-8fe1-75fb9432286c",
   "metadata": {},
   "source": [
    "In this code:\n",
    "\n",
    "The while loop keeps running, comparing number with guess_me:\n",
    "If number is less than guess_me, it prints \"too low\".\n",
    "If number is equal to guess_me, it prints \"found it!\" and breaks out of the loop.\n",
    "If number is greater than guess_me, it prints \"oops\" and exits the loop.\n",
    "number is incremented at the end of each loop iteration.\n"
   ]
  },
  {
   "cell_type": "code",
   "execution_count": null,
   "id": "e7aa8ab8-7807-4f17-87ad-26d664667123",
   "metadata": {},
   "outputs": [],
   "source": [
    "# 6.3 Solution\n",
    "# Initialize variable\n",
    "guess_me = 5\n",
    "\n",
    "# For loop to iterate `number` over range(10)\n",
    "for number in range(10):\n",
    "    if number < guess_me:\n",
    "        print(\"too low\")\n",
    "    elif number == guess_me:\n",
    "        print(\"found it!\")\n",
    "        break\n",
    "    else:\n",
    "        print(\"oops\")\n",
    "        break\n"
   ]
  },
  {
   "cell_type": "markdown",
   "id": "a3390680-d533-4686-a19a-9eb7577756dd",
   "metadata": {},
   "source": [
    "In this code:\n",
    "\n",
    "The for loop iterates number over the range from 0 to 9.\n",
    "If number is less than guess_me, it prints \"too low\".\n",
    "If number equals guess_me, it prints \"found it!\" and breaks out of the loop.\n",
    "If number is greater than guess_me, it prints \"oops\" and exits the loop."
   ]
  }
 ],
 "metadata": {
  "kernelspec": {
   "display_name": "Python 3 (ipykernel)",
   "language": "python",
   "name": "python3"
  },
  "language_info": {
   "codemirror_mode": {
    "name": "ipython",
    "version": 3
   },
   "file_extension": ".py",
   "mimetype": "text/x-python",
   "name": "python",
   "nbconvert_exporter": "python",
   "pygments_lexer": "ipython3",
   "version": "3.11.7"
  }
 },
 "nbformat": 4,
 "nbformat_minor": 5
}
